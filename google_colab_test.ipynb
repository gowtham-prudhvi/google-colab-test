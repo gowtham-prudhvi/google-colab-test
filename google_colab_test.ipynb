{
  "nbformat": 4,
  "nbformat_minor": 0,
  "metadata": {
    "colab": {
      "name": "google_colab_test.ipynb",
      "provenance": [],
      "collapsed_sections": [],
      "include_colab_link": true
    },
    "kernelspec": {
      "name": "python3",
      "display_name": "Python 3"
    }
  },
  "cells": [
    {
      "cell_type": "markdown",
      "metadata": {
        "id": "view-in-github",
        "colab_type": "text"
      },
      "source": [
        "<a href=\"https://colab.research.google.com/github/gowtham-prudhvi/google-colab-test/blob/master/google_colab_test.ipynb\" target=\"_parent\"><img src=\"https://colab.research.google.com/assets/colab-badge.svg\" alt=\"Open In Colab\"/></a>"
      ]
    },
    {
      "cell_type": "code",
      "metadata": {
        "id": "zhgtGK3i4HX2",
        "colab_type": "code",
        "colab": {}
      },
      "source": [
        "import tensorflow as tf"
      ],
      "execution_count": 0,
      "outputs": []
    },
    {
      "cell_type": "code",
      "metadata": {
        "id": "EAt09UEg4gwY",
        "colab_type": "code",
        "colab": {}
      },
      "source": [
        "print(tf.__version__)\n",
        "\n",
        "x = tf.placeholder(\"float\",None)\n",
        "y = tf.placeholder(\"float\",None)\n",
        "z = x*y\n",
        "\n",
        "with tf.Session() as sess:\n",
        "  result = sess.run(z,feed_dict={x:[1,2,3],y:[3,4,6]})\n",
        "  print(result)\n",
        "\n"
      ],
      "execution_count": 0,
      "outputs": []
    }
  ]
}